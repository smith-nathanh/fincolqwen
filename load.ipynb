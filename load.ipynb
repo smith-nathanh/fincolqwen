{
 "cells": [
  {
   "cell_type": "code",
   "execution_count": 1,
   "metadata": {},
   "outputs": [],
   "source": [
    "import os\n",
    "import random\n",
    "from dotenv import load_dotenv\n",
    "from datasets import load_from_disk, DatasetDict\n",
    "import random\n",
    "from collections import defaultdict\n",
    "import cv2\n",
    "import numpy as np\n",
    "from PIL import Image\n",
    "import io"
   ]
  },
  {
   "cell_type": "code",
   "execution_count": 2,
   "metadata": {},
   "outputs": [],
   "source": [
    "load_dotenv()\n",
    "token = os.getenv(\"HF_TOKEN\")"
   ]
  },
  {
   "cell_type": "code",
   "execution_count": 3,
   "metadata": {},
   "outputs": [
    {
     "name": "stdout",
     "output_type": "stream",
     "text": [
      "Loading dataset from disk...\n",
      "Dataset loaded successfully with 2972 examples\n",
      "\n",
      "Dataset features:\n",
      "{'document_id': Value(dtype='string', id=None), 'page': Value(dtype='int64', id=None), 'image_filename': Value(dtype='string', id=None), 'image': Image(decode=True, id=None), 'query': Value(dtype='string', id=None), 'answer': Value(dtype='string', id=None), 'source': Value(dtype='string', id=None), 'model': Value(dtype='string', id=None), 'prompt': Value(dtype='string', id=None)}\n"
     ]
    },
    {
     "name": "stderr",
     "output_type": "stream",
     "text": [
      "/home/nate/proj/fincolqwen/.venv/lib/python3.12/site-packages/datasets/table.py:1421: FutureWarning: promote has been superseded by promote_options='default'.\n",
      "  table = cls._concat_blocks(blocks, axis=0)\n"
     ]
    }
   ],
   "source": [
    "dataset_path = \"/mnt/storage/fincolqwen_data/datasets/pdf_dataset\"\n",
    "\n",
    "# Load the dataset\n",
    "print(\"Loading dataset from disk...\")\n",
    "orig_dataset = load_from_disk(dataset_path)\n",
    "\n",
    "# Print dataset info\n",
    "print(f\"Dataset loaded successfully with {len(orig_dataset)} examples\")\n",
    "print(\"\\nDataset features:\")\n",
    "print(orig_dataset.features)"
   ]
  },
  {
   "cell_type": "code",
   "execution_count": 4,
   "metadata": {},
   "outputs": [
    {
     "data": {
      "text/plain": [
       "{'document_id': Value(dtype='string', id=None),\n",
       " 'page': Value(dtype='int64', id=None),\n",
       " 'image_filename': Value(dtype='string', id=None),\n",
       " 'image': Image(decode=True, id=None),\n",
       " 'query': Value(dtype='string', id=None),\n",
       " 'answer': Value(dtype='string', id=None),\n",
       " 'source': Value(dtype='string', id=None),\n",
       " 'model': Value(dtype='string', id=None),\n",
       " 'prompt': Value(dtype='string', id=None)}"
      ]
     },
     "execution_count": 4,
     "metadata": {},
     "output_type": "execute_result"
    }
   ],
   "source": [
    "orig_dataset.features"
   ]
  },
  {
   "cell_type": "code",
   "execution_count": 5,
   "metadata": {},
   "outputs": [
    {
     "name": "stdout",
     "output_type": "stream",
     "text": [
      "Found 142 blank pages out of 2972 total pages\n",
      "Blank page indices: [17, 21, 34, 70, 74, 97, 99, 103, 104, 105, 109, 164, 169, 170, 178, 182, 183, 184, 193, 194, 222, 234, 250, 251, 252, 451, 477, 500, 504, 521, 546, 547, 563, 585, 620, 636, 646, 654, 664, 672, 678, 682, 686, 726, 756, 758, 761, 770, 774, 780, 784, 826, 843, 925, 991, 992, 1021, 1023, 1055, 1061, 1073, 1076, 1084, 1134, 1175, 1215, 1219, 1233, 1335, 1336, 1337, 1339, 1341, 1345, 1395, 1401, 1410, 1411, 1414, 1416, 1422, 1472, 1494, 1566, 1590, 1673, 1685, 1723, 1751, 1777, 1874, 1876, 1919, 1925, 2015, 2058, 2062, 2076, 2078, 2086, 2092, 2112, 2168, 2177, 2278, 2282, 2320, 2346, 2348, 2367, 2443, 2455, 2463, 2477, 2487, 2499, 2529, 2531, 2533, 2535, 2543, 2555, 2590, 2593, 2638, 2647, 2678, 2696, 2700, 2716, 2729, 2731, 2735, 2741, 2759, 2763, 2782, 2871, 2908, 2916, 2925, 2961]\n"
     ]
    }
   ],
   "source": [
    "def is_mostly_blank(image, threshold_percent=99, debug=False):\n",
    "    \"\"\"\n",
    "    Determine if an image is mostly blank space (more strict version)\n",
    "    \n",
    "    Args:\n",
    "        image: PIL Image or numpy array\n",
    "        threshold_percent: Percentage of white space to consider \"mostly blank\" (default: 99%)\n",
    "        debug: If True, returns more detailed information for debugging\n",
    "        \n",
    "    Returns:\n",
    "        bool or tuple: True if the image is mostly blank, False otherwise.\n",
    "                      If debug=True, returns (is_blank, white_percentage)\n",
    "    \"\"\"\n",
    "    # Convert PIL Image to numpy array if needed\n",
    "    if isinstance(image, Image.Image):\n",
    "        img_np = np.array(image.convert('L'))  # Convert to grayscale\n",
    "    else:\n",
    "        # Ensure grayscale\n",
    "        if len(image.shape) == 3:\n",
    "            img_np = cv2.cvtColor(image, cv2.COLOR_RGB2GRAY)\n",
    "        else:\n",
    "            img_np = image\n",
    "    \n",
    "    # Use adaptive thresholding to better handle different lighting/contrast\n",
    "    binary = cv2.adaptiveThreshold(\n",
    "        img_np, 255, cv2.ADAPTIVE_THRESH_GAUSSIAN_C, \n",
    "        cv2.THRESH_BINARY, 11, 2\n",
    "    )\n",
    "    \n",
    "    # Calculate percentage of white pixels (blank space)\n",
    "    white_pixel_count = np.sum(binary == 255)\n",
    "    total_pixels = binary.shape[0] * binary.shape[1]\n",
    "    white_percentage = (white_pixel_count / total_pixels) * 100\n",
    "    \n",
    "    is_blank = white_percentage > threshold_percent\n",
    "    \n",
    "    if debug:\n",
    "        return is_blank, white_percentage\n",
    "    return is_blank\n",
    "\n",
    "def filter_non_blank_pages(dataset, threshold=99.2):\n",
    "    \"\"\"\n",
    "    Filter out mostly blank pages from the dataset\n",
    "    \n",
    "    Args:\n",
    "        dataset: HuggingFace dataset\n",
    "        threshold: Percentage threshold for blankness\n",
    "        \n",
    "    Returns:\n",
    "        list: Indices of blank pages that exceeded the threshold\n",
    "    \"\"\"\n",
    "    blank_indices = []\n",
    "    non_blank_indices = []\n",
    "    \n",
    "    for i, example in enumerate(dataset):\n",
    "        img = example['image']\n",
    "        is_blank, white_percentage = is_mostly_blank(img, threshold, debug=True)\n",
    "        \n",
    "        if is_blank:\n",
    "            blank_indices.append(i)\n",
    "        else:\n",
    "            non_blank_indices.append(i)\n",
    "    \n",
    "    print(f\"Found {len(blank_indices)} blank pages out of {len(dataset)} total pages\")\n",
    "    return blank_indices, non_blank_indices\n",
    "\n",
    "# Get blank page indices\n",
    "blank_indices, non_blank_indices = filter_non_blank_pages(orig_dataset, threshold=99)\n",
    "print(f\"Blank page indices: {blank_indices}\")"
   ]
  },
  {
   "cell_type": "code",
   "execution_count": 6,
   "metadata": {},
   "outputs": [
    {
     "name": "stdout",
     "output_type": "stream",
     "text": [
      "'The Presentation Materials_3Q24_ADA_page_18.jpg',\n",
      "'The Presentation Materials_3Q24_ADA_page_22.jpg',\n",
      "'The Presentation Materials_3Q24_ADA_page_35.jpg',\n",
      "'CBO-HouseholdIncome_page_36.jpg',\n",
      "'CBO-HouseholdIncome_page_40.jpg',\n",
      "'financial-stability-report-20241122_page_2.jpg',\n",
      "'financial-stability-report-20241122_page_4.jpg',\n",
      "'financial-stability-report-20241122_page_8.jpg',\n",
      "'financial-stability-report-20241122_page_9.jpg',\n",
      "'financial-stability-report-20241122_page_10.jpg',\n",
      "'financial-stability-report-20241122_page_14.jpg',\n",
      "'financial-stability-report-20241122_page_69.jpg',\n",
      "'An_Introduction_to_Quantitative_Finance_page_4.jpg',\n",
      "'An_Introduction_to_Quantitative_Finance_page_5.jpg',\n",
      "'An_Introduction_to_Quantitative_Finance_page_13.jpg',\n",
      "'An_Introduction_to_Quantitative_Finance_page_17.jpg',\n",
      "'An_Introduction_to_Quantitative_Finance_page_18.jpg',\n",
      "'An_Introduction_to_Quantitative_Finance_page_19.jpg',\n",
      "'An_Introduction_to_Quantitative_Finance_page_28.jpg',\n",
      "'An_Introduction_to_Quantitative_Finance_page_29.jpg',\n",
      "'An_Introduction_to_Quantitative_Finance_page_57.jpg',\n",
      "'An_Introduction_to_Quantitative_Finance_page_69.jpg',\n",
      "'An_Introduction_to_Quantitative_Finance_page_85.jpg',\n",
      "'An_Introduction_to_Quantitative_Finance_page_86.jpg',\n",
      "'An_Introduction_to_Quantitative_Finance_page_87.jpg',\n",
      "'2024097pap_page_73.jpg',\n",
      "'third-quarter-2024-financial-results_page_1.jpg',\n",
      "'the-fed-explained_page_2.jpg',\n",
      "'the-fed-explained_page_6.jpg',\n",
      "'the-fed-explained_page_23.jpg',\n",
      "'the-fed-explained_page_48.jpg',\n",
      "'the-fed-explained_page_49.jpg',\n",
      "'the-fed-explained_page_65.jpg',\n",
      "'the-fed-explained_page_87.jpg',\n",
      "'2023-report-economic-well-being-us-households-202405_page_22.jpg',\n",
      "'2023-report-economic-well-being-us-households-202405_page_38.jpg',\n",
      "'2023-report-economic-well-being-us-households-202405_page_48.jpg',\n",
      "'2023-report-economic-well-being-us-households-202405_page_56.jpg',\n",
      "'2023-report-economic-well-being-us-households-202405_page_66.jpg',\n",
      "'2023-report-economic-well-being-us-households-202405_page_74.jpg',\n",
      "'2023-report-economic-well-being-us-households-202405_page_80.jpg',\n",
      "'20240705_mprfullreport_page_2.jpg',\n",
      "'20240705_mprfullreport_page_6.jpg',\n",
      "'20240705_mprfullreport_page_46.jpg',\n",
      "'20240705_mprfullreport_page_76.jpg',\n",
      "'20240705_mprfullreport_page_78.jpg',\n",
      "'JPM_4Q_page_2.jpg',\n",
      "'JPM_4Q_page_11.jpg',\n",
      "'JPM_4Q_page_15.jpg',\n",
      "'20200612_mprfullreport_page_2.jpg',\n",
      "'20200612_mprfullreport_page_6.jpg',\n",
      "'20200612_mprfullreport_page_48.jpg',\n",
      "'20200612_mprfullreport_page_65.jpg',\n",
      "'2503.04941v1_page_60.jpg',\n",
      "'2503.03312v1_page_41.jpg',\n",
      "'2503.03312v1_page_42.jpg',\n",
      "'20100721_mprfullreport_page_3.jpg',\n",
      "'20100721_mprfullreport_page_5.jpg',\n",
      "'20100721_mprfullreport_page_37.jpg',\n",
      "'20100721_mprfullreport_page_43.jpg',\n",
      "'20100721_mprfullreport_page_55.jpg',\n",
      "'d8814e8b-en_page_2.jpg',\n",
      "'d8814e8b-en_page_10.jpg',\n",
      "'d8814e8b-en_page_60.jpg',\n",
      "'second-quarter-2024-financial-results_page_1.jpg',\n",
      "'The Presentation Materials_4Q24_ADA_page_19.jpg',\n",
      "'The Presentation Materials_4Q24_ADA_page_23.jpg',\n",
      "'The Presentation Materials_4Q24_ADA_page_37.jpg',\n",
      "'financial-stability-report-20200515_page_2.jpg',\n",
      "'financial-stability-report-20200515_page_3.jpg',\n",
      "'financial-stability-report-20200515_page_4.jpg',\n",
      "'financial-stability-report-20200515_page_6.jpg',\n",
      "'financial-stability-report-20200515_page_8.jpg',\n",
      "'financial-stability-report-20200515_page_12.jpg',\n",
      "'financial-stability-report-20200515_page_62.jpg',\n",
      "'financial-stability-report-20200515_page_68.jpg',\n",
      "'financial-stability-report-20200515_page_77.jpg',\n",
      "'financial-stability-report-20200515_page_78.jpg',\n",
      "'20250207_mprfullreport_page_2.jpg',\n",
      "'20250207_mprfullreport_page_4.jpg',\n",
      "'20250207_mprfullreport_page_10.jpg',\n",
      "'20250207_mprfullreport_page_60.jpg',\n",
      "'20250207_mprfullreport_page_82.jpg',\n",
      "'60557-budget-options_page_18.jpg',\n",
      "'60557-budget-options_page_42.jpg',\n",
      "'PrinciplesofFinance-WEB_page_2.jpg',\n",
      "'PrinciplesofFinance-WEB_page_14.jpg',\n",
      "'PrinciplesofFinance-WEB_page_52.jpg',\n",
      "'PrinciplesofFinance-WEB_page_80.jpg',\n",
      "'first-quarter-2024-financial-results_page_1.jpg',\n",
      "'BAC+2023+Annual+Report_page_77.jpg',\n",
      "'BAC+2023+Annual+Report_page_79.jpg',\n",
      "'a4T9b5_corporate finance_10_ed_page_5.jpg',\n",
      "'a4T9b5_corporate finance_10_ed_page_11.jpg',\n",
      "'fourth-quarter-2024-financial-results_page_1.jpg',\n",
      "'The Presentation Materials_2Q24_ADA_page_19.jpg',\n",
      "'The Presentation Materials_2Q24_ADA_page_23.jpg',\n",
      "'The Presentation Materials_2Q24_ADA_page_37.jpg',\n",
      "'Macroeconomics2e-OP_08uAIKN_page_2.jpg',\n",
      "'Macroeconomics2e-OP_08uAIKN_page_10.jpg',\n",
      "'Macroeconomics2e-OP_08uAIKN_page_16.jpg',\n",
      "'Macroeconomics2e-OP_08uAIKN_page_36.jpg',\n",
      "'Macroeconomics2e-OP_08uAIKN_page_92.jpg',\n",
      "'WF-2023-annual-report_page_1.jpg',\n",
      "'20230616_mprfullreport_page_2.jpg',\n",
      "'20230616_mprfullreport_page_6.jpg',\n",
      "'20230616_mprfullreport_page_44.jpg',\n",
      "'20230616_mprfullreport_page_70.jpg',\n",
      "'20230616_mprfullreport_page_72.jpg',\n",
      "'ifdp1404_page_18.jpg',\n",
      "'59711-Long-Term-Outlook-2024_page_2.jpg',\n",
      "'59711-Long-Term-Outlook-2024_page_14.jpg',\n",
      "'59711-Long-Term-Outlook-2024_page_22.jpg',\n",
      "'59711-Long-Term-Outlook-2024_page_36.jpg',\n",
      "'59711-Long-Term-Outlook-2024_page_46.jpg',\n",
      "'59711-Long-Term-Outlook-2024_page_58.jpg',\n",
      "'202411-supervision-and-regulation-report_page_4.jpg',\n",
      "'202411-supervision-and-regulation-report_page_6.jpg',\n",
      "'202411-supervision-and-regulation-report_page_8.jpg',\n",
      "'202411-supervision-and-regulation-report_page_10.jpg',\n",
      "'202411-supervision-and-regulation-report_page_18.jpg',\n",
      "'202411-supervision-and-regulation-report_page_30.jpg',\n",
      "'2503.01591v1_page_14.jpg',\n",
      "'2503.01591v1_page_17.jpg',\n",
      "'BLS-consumerpriceindex_jan2025_page_28.jpg',\n",
      "'BLS-consumerpriceindex_jan2025_page_37.jpg',\n",
      "'58963-student-loan_page_12.jpg',\n",
      "'58963-student-loan_page_30.jpg',\n",
      "'58963-student-loan_page_34.jpg',\n",
      "'58963-student-loan_page_50.jpg',\n",
      "'scf23_page_4.jpg',\n",
      "'scf23_page_6.jpg',\n",
      "'scf23_page_10.jpg',\n",
      "'scf23_page_16.jpg',\n",
      "'scf23_page_34.jpg',\n",
      "'scf23_page_38.jpg',\n",
      "'scf23_page_57.jpg',\n",
      "'2024088pap_page_52.jpg',\n",
      "'The Presentation Materials_1Q24_ADA_page_18.jpg',\n",
      "'The Presentation Materials_1Q24_ADA_page_26.jpg',\n",
      "'The Presentation Materials_1Q24_ADA_page_35.jpg',\n",
      "'60870-Outlook-2025_page_36.jpg',\n"
     ]
    }
   ],
   "source": [
    "for i in blank_indices:\n",
    "    print(f\"'{orig_dataset[i]['image_filename']}',\")"
   ]
  },
  {
   "cell_type": "code",
   "execution_count": 7,
   "metadata": {},
   "outputs": [
    {
     "name": "stdout",
     "output_type": "stream",
     "text": [
      "Filtered dataset now has 2830 examples\n"
     ]
    }
   ],
   "source": [
    "dataset = orig_dataset.select(indices=non_blank_indices)\n",
    "print(f\"Filtered dataset now has {len(dataset)} examples\")"
   ]
  },
  {
   "cell_type": "code",
   "execution_count": 8,
   "metadata": {},
   "outputs": [
    {
     "name": "stdout",
     "output_type": "stream",
     "text": [
      "{'document_id': '3fcdd092-bf6c-4465-867a-17025920429f', 'page': 30, 'image_filename': 'Macroeconomics2e-OP_08uAIKN_page_30.jpg', 'image': <PIL.JpegImagePlugin.JpegImageFile image mode=RGB size=2550x3300 at 0x73434FCADB80>, 'query': '', 'answer': '', 'source': 'Macroeconomics2e-OP_08uAIKN.pdf', 'model': '', 'prompt': ''}\n",
      "{'document_id': '5f0d9f0a-0c74-42a9-8a72-6ef172407d6a', 'page': 44, 'image_filename': 'PrinciplesofFinance-WEB_page_44.jpg', 'image': <PIL.JpegImagePlugin.JpegImageFile image mode=RGB size=2550x3300 at 0x73434FCAE180>, 'query': '', 'answer': '', 'source': 'PrinciplesofFinance-WEB.pdf', 'model': '', 'prompt': ''}\n",
      "{'document_id': 'c08c4404-93f9-4a49-84be-704284967388', 'page': 72, 'image_filename': 'a4T9b5_corporate finance_10_ed_page_72.jpg', 'image': <PIL.JpegImagePlugin.JpegImageFile image mode=RGB size=2682x3300 at 0x73434FCADE50>, 'query': '', 'answer': '', 'source': 'a4T9b5_corporate finance_10_ed.pdf', 'model': '', 'prompt': ''}\n",
      "{'document_id': '3c71d018-d37a-49e1-9aac-60c24b8b1d12', 'page': 12, 'image_filename': 'ifdp1404_page_12.jpg', 'image': <PIL.JpegImagePlugin.JpegImageFile image mode=RGB size=2550x3300 at 0x73434FCAE030>, 'query': '', 'answer': '', 'source': 'ifdp1404.pdf', 'model': '', 'prompt': ''}\n",
      "{'document_id': '720bee76-0b72-4bed-bc15-7e433a9c88e9', 'page': 52, 'image_filename': 'BAC+2023+Annual+Report_page_52.jpg', 'image': <PIL.JpegImagePlugin.JpegImageFile image mode=RGB size=2400x3075 at 0x73434FCADD60>, 'query': '', 'answer': '', 'source': 'BAC+2023+Annual+Report.pdf', 'model': '', 'prompt': ''}\n",
      "{'document_id': '403242d6-2b06-4385-ad46-963ec0f898de', 'page': 15, 'image_filename': 'BLS-employmentsituation032025_page_15.jpg', 'image': <PIL.JpegImagePlugin.JpegImageFile image mode=RGB size=2550x3300 at 0x73434FCADD90>, 'query': '', 'answer': '', 'source': 'BLS-employmentsituation032025.pdf', 'model': '', 'prompt': ''}\n",
      "{'document_id': '0f959783-db4b-49dc-a26d-fceb5531eadb', 'page': 42, 'image_filename': 'economics-principles-and-practices1_page_42.jpg', 'image': <PIL.JpegImagePlugin.JpegImageFile image mode=RGB size=2550x3263 at 0x73434FCACFB0>, 'query': '', 'answer': '', 'source': 'economics-principles-and-practices1.pdf', 'model': '', 'prompt': ''}\n",
      "{'document_id': '3a4d90d5-f184-420d-b422-e2152d829725', 'page': 12, 'image_filename': '2503.01591v1_page_12.jpg', 'image': <PIL.JpegImagePlugin.JpegImageFile image mode=RGB size=2481x3508 at 0x73434FCADAF0>, 'query': '', 'answer': '', 'source': '2503.01591v1.pdf', 'model': '', 'prompt': ''}\n",
      "{'document_id': '5f0d9f0a-0c74-42a9-8a72-6ef172407d6a', 'page': 54, 'image_filename': 'PrinciplesofFinance-WEB_page_54.jpg', 'image': <PIL.JpegImagePlugin.JpegImageFile image mode=RGB size=2550x3300 at 0x73434FCAE180>, 'query': '', 'answer': '', 'source': 'PrinciplesofFinance-WEB.pdf', 'model': '', 'prompt': ''}\n",
      "{'document_id': 'dde03138-e0f1-4c4b-af00-c7e64a9e935a', 'page': 20, 'image_filename': 'financial-stability-report-20200515_page_20.jpg', 'image': <PIL.JpegImagePlugin.JpegImageFile image mode=RGB size=2550x3300 at 0x73434FCADE50>, 'query': '', 'answer': '', 'source': 'financial-stability-report-20200515.pdf', 'model': '', 'prompt': ''}\n",
      "{'document_id': '0f959783-db4b-49dc-a26d-fceb5531eadb', 'page': 82, 'image_filename': 'economics-principles-and-practices1_page_82.jpg', 'image': <PIL.JpegImagePlugin.JpegImageFile image mode=RGB size=2550x3263 at 0x73434FCAE030>, 'query': '', 'answer': '', 'source': 'economics-principles-and-practices1.pdf', 'model': '', 'prompt': ''}\n",
      "{'document_id': 'c20d1212-00c6-4dd2-b365-8d106f383005', 'page': 23, 'image_filename': '59711-Long-Term-Outlook-2024_page_23.jpg', 'image': <PIL.JpegImagePlugin.JpegImageFile image mode=RGB size=2550x3300 at 0x73434FCAE0F0>, 'query': '', 'answer': '', 'source': '59711-Long-Term-Outlook-2024.pdf', 'model': '', 'prompt': ''}\n",
      "{'document_id': '481ac45d-1ed9-4d69-b595-9845c2b07d2d', 'page': 56, 'image_filename': '20230616_mprfullreport_page_56.jpg', 'image': <PIL.JpegImagePlugin.JpegImageFile image mode=RGB size=2550x3300 at 0x73434FCADE80>, 'query': '', 'answer': '', 'source': '20230616_mprfullreport.pdf', 'model': '', 'prompt': ''}\n",
      "{'document_id': '8e8d40b3-da93-40cc-be8e-7870f5b5226b', 'page': 84, 'image_filename': '60557-budget-options_page_84.jpg', 'image': <PIL.JpegImagePlugin.JpegImageFile image mode=RGB size=2550x3300 at 0x73434FCAE1E0>, 'query': '', 'answer': '', 'source': '60557-budget-options.pdf', 'model': '', 'prompt': ''}\n",
      "{'document_id': 'cd200429-3879-472e-ad84-d99bcb16d94a', 'page': 28, 'image_filename': 'd8814e8b-en_page_28.jpg', 'image': <PIL.JpegImagePlugin.JpegImageFile image mode=RGB size=2481x3508 at 0x73434FCADAF0>, 'query': '', 'answer': '', 'source': 'd8814e8b-en.pdf', 'model': '', 'prompt': ''}\n",
      "{'document_id': 'c08c4404-93f9-4a49-84be-704284967388', 'page': 60, 'image_filename': 'a4T9b5_corporate finance_10_ed_page_60.jpg', 'image': <PIL.JpegImagePlugin.JpegImageFile image mode=RGB size=2682x3300 at 0x73434FCADD60>, 'query': '', 'answer': '', 'source': 'a4T9b5_corporate finance_10_ed.pdf', 'model': '', 'prompt': ''}\n",
      "{'document_id': '720bee76-0b72-4bed-bc15-7e433a9c88e9', 'page': 11, 'image_filename': 'BAC+2023+Annual+Report_page_11.jpg', 'image': <PIL.JpegImagePlugin.JpegImageFile image mode=RGB size=2400x3075 at 0x73434FCADB80>, 'query': '', 'answer': '', 'source': 'BAC+2023+Annual+Report.pdf', 'model': '', 'prompt': ''}\n",
      "{'document_id': 'c08c4404-93f9-4a49-84be-704284967388', 'page': 21, 'image_filename': 'a4T9b5_corporate finance_10_ed_page_21.jpg', 'image': <PIL.JpegImagePlugin.JpegImageFile image mode=RGB size=2682x3300 at 0x73434FCACFB0>, 'query': '', 'answer': '', 'source': 'a4T9b5_corporate finance_10_ed.pdf', 'model': '', 'prompt': ''}\n",
      "{'document_id': 'ce257e61-39b6-435d-b5fa-62712b99053c', 'page': 19, 'image_filename': '20250207_mprfullreport_page_19.jpg', 'image': <PIL.JpegImagePlugin.JpegImageFile image mode=RGB size=2550x3300 at 0x73434FCAE0F0>, 'query': '', 'answer': '', 'source': '20250207_mprfullreport.pdf', 'model': '', 'prompt': ''}\n",
      "{'document_id': '481ac45d-1ed9-4d69-b595-9845c2b07d2d', 'page': 49, 'image_filename': '20230616_mprfullreport_page_49.jpg', 'image': <PIL.JpegImagePlugin.JpegImageFile image mode=RGB size=2550x3300 at 0x73434FCADE80>, 'query': '', 'answer': '', 'source': '20230616_mprfullreport.pdf', 'model': '', 'prompt': ''}\n",
      "{'document_id': 'b1f9de87-dff3-4561-8f06-51f5e991dd7b', 'page': 42, 'image_filename': 'scf23_page_42.jpg', 'image': <PIL.JpegImagePlugin.JpegImageFile image mode=RGB size=2550x3300 at 0x73434FCAE1E0>, 'query': '', 'answer': '', 'source': 'scf23.pdf', 'model': '', 'prompt': ''}\n",
      "{'document_id': '78b945cb-60cc-4b09-8c3f-4dbd5247603e', 'page': 53, 'image_filename': '20100721_mprfullreport_page_53.jpg', 'image': <PIL.JpegImagePlugin.JpegImageFile image mode=RGB size=2550x3300 at 0x73434FCADAF0>, 'query': '', 'answer': '', 'source': '20100721_mprfullreport.pdf', 'model': '', 'prompt': ''}\n",
      "{'document_id': 'cd200429-3879-472e-ad84-d99bcb16d94a', 'page': 47, 'image_filename': 'd8814e8b-en_page_47.jpg', 'image': <PIL.JpegImagePlugin.JpegImageFile image mode=RGB size=2481x3508 at 0x73434FCAD7C0>, 'query': '', 'answer': '', 'source': 'd8814e8b-en.pdf', 'model': '', 'prompt': ''}\n",
      "{'document_id': '3a4d90d5-f184-420d-b422-e2152d829725', 'page': 19, 'image_filename': '2503.01591v1_page_19.jpg', 'image': <PIL.JpegImagePlugin.JpegImageFile image mode=RGB size=2481x3508 at 0x73434FCAE0F0>, 'query': '', 'answer': '', 'source': '2503.01591v1.pdf', 'model': '', 'prompt': ''}\n",
      "{'document_id': 'c08c4404-93f9-4a49-84be-704284967388', 'page': 16, 'image_filename': 'a4T9b5_corporate finance_10_ed_page_16.jpg', 'image': <PIL.JpegImagePlugin.JpegImageFile image mode=RGB size=2682x3300 at 0x73434FCAE030>, 'query': '', 'answer': '', 'source': 'a4T9b5_corporate finance_10_ed.pdf', 'model': '', 'prompt': ''}\n",
      "{'document_id': 'cd200429-3879-472e-ad84-d99bcb16d94a', 'page': 23, 'image_filename': 'd8814e8b-en_page_23.jpg', 'image': <PIL.JpegImagePlugin.JpegImageFile image mode=RGB size=2481x3508 at 0x73434FCAE120>, 'query': '', 'answer': '', 'source': 'd8814e8b-en.pdf', 'model': '', 'prompt': ''}\n",
      "{'document_id': '720bee76-0b72-4bed-bc15-7e433a9c88e9', 'page': 62, 'image_filename': 'BAC+2023+Annual+Report_page_62.jpg', 'image': <PIL.JpegImagePlugin.JpegImageFile image mode=RGB size=2400x3075 at 0x73434FCADAC0>, 'query': '', 'answer': '', 'source': 'BAC+2023+Annual+Report.pdf', 'model': '', 'prompt': ''}\n",
      "{'document_id': 'b5f7a9b0-ed42-4fba-87a1-fae158cefdaf', 'page': 3, 'image_filename': 'first-quarter-2024-financial-results_page_3.jpg', 'image': <PIL.JpegImagePlugin.JpegImageFile image mode=RGB size=4000x2250 at 0x73434FCADF70>, 'query': '', 'answer': '', 'source': 'first-quarter-2024-financial-results.pdf', 'model': '', 'prompt': ''}\n",
      "{'document_id': 'cd200429-3879-472e-ad84-d99bcb16d94a', 'page': 13, 'image_filename': 'd8814e8b-en_page_13.jpg', 'image': <PIL.JpegImagePlugin.JpegImageFile image mode=RGB size=2481x3508 at 0x73434FCADA90>, 'query': '', 'answer': '', 'source': 'd8814e8b-en.pdf', 'model': '', 'prompt': ''}\n",
      "{'document_id': '90bc0426-3f66-4ea1-87d9-d1fa656a20cf', 'page': 9, 'image_filename': 'The Presentation Materials_1Q24_ADA_page_9.jpg', 'image': <PIL.JpegImagePlugin.JpegImageFile image mode=RGB size=3300x2550 at 0x73434FCADB20>, 'query': '', 'answer': '', 'source': 'The Presentation Materials_1Q24_ADA.pdf', 'model': '', 'prompt': ''}\n",
      "{'document_id': '3a4d90d5-f184-420d-b422-e2152d829725', 'page': 10, 'image_filename': '2503.01591v1_page_10.jpg', 'image': <PIL.JpegImagePlugin.JpegImageFile image mode=RGB size=2481x3508 at 0x73434FCAE1E0>, 'query': '', 'answer': '', 'source': '2503.01591v1.pdf', 'model': '', 'prompt': ''}\n",
      "{'document_id': '403242d6-2b06-4385-ad46-963ec0f898de', 'page': 3, 'image_filename': 'BLS-employmentsituation032025_page_3.jpg', 'image': <PIL.JpegImagePlugin.JpegImageFile image mode=RGB size=2550x3300 at 0x73434FCACFB0>, 'query': '', 'answer': '', 'source': 'BLS-employmentsituation032025.pdf', 'model': '', 'prompt': ''}\n",
      "{'document_id': '150eeb47-18c4-4edf-81e5-96220d18c9b5', 'page': 5, 'image_filename': '2025005pap_page_5.jpg', 'image': <PIL.JpegImagePlugin.JpegImageFile image mode=RGB size=2550x3300 at 0x73434FCADB80>, 'query': '', 'answer': '', 'source': '2025005pap.pdf', 'model': '', 'prompt': ''}\n",
      "{'document_id': '4f8143c7-c39e-4206-847b-174d92642e69', 'page': 3, 'image_filename': '2024088pap_page_3.jpg', 'image': <PIL.JpegImagePlugin.JpegImageFile image mode=RGB size=2550x3300 at 0x73434FCADCA0>, 'query': '', 'answer': '', 'source': '2024088pap.pdf', 'model': '', 'prompt': ''}\n",
      "{'document_id': '5f0d9f0a-0c74-42a9-8a72-6ef172407d6a', 'page': 66, 'image_filename': 'PrinciplesofFinance-WEB_page_66.jpg', 'image': <PIL.JpegImagePlugin.JpegImageFile image mode=RGB size=2550x3300 at 0x73434FCAD7C0>, 'query': '', 'answer': '', 'source': 'PrinciplesofFinance-WEB.pdf', 'model': '', 'prompt': ''}\n",
      "{'document_id': '3c71d018-d37a-49e1-9aac-60c24b8b1d12', 'page': 11, 'image_filename': 'ifdp1404_page_11.jpg', 'image': <PIL.JpegImagePlugin.JpegImageFile image mode=RGB size=2550x3300 at 0x73434FCADE50>, 'query': '', 'answer': '', 'source': 'ifdp1404.pdf', 'model': '', 'prompt': ''}\n",
      "{'document_id': '720bee76-0b72-4bed-bc15-7e433a9c88e9', 'page': 37, 'image_filename': 'BAC+2023+Annual+Report_page_37.jpg', 'image': <PIL.JpegImagePlugin.JpegImageFile image mode=RGB size=2400x3075 at 0x73434FCADB80>, 'query': '', 'answer': '', 'source': 'BAC+2023+Annual+Report.pdf', 'model': '', 'prompt': ''}\n",
      "{'document_id': 'c08c4404-93f9-4a49-84be-704284967388', 'page': 25, 'image_filename': 'a4T9b5_corporate finance_10_ed_page_25.jpg', 'image': <PIL.JpegImagePlugin.JpegImageFile image mode=RGB size=2682x3300 at 0x73434FCADE80>, 'query': '', 'answer': '', 'source': 'a4T9b5_corporate finance_10_ed.pdf', 'model': '', 'prompt': ''}\n",
      "{'document_id': '720bee76-0b72-4bed-bc15-7e433a9c88e9', 'page': 2, 'image_filename': 'BAC+2023+Annual+Report_page_2.jpg', 'image': <PIL.JpegImagePlugin.JpegImageFile image mode=RGB size=2400x3075 at 0x73434FCADA00>, 'query': '', 'answer': '', 'source': 'BAC+2023+Annual+Report.pdf', 'model': '', 'prompt': ''}\n",
      "{'document_id': '78b945cb-60cc-4b09-8c3f-4dbd5247603e', 'page': 52, 'image_filename': '20100721_mprfullreport_page_52.jpg', 'image': <PIL.JpegImagePlugin.JpegImageFile image mode=RGB size=2550x3300 at 0x73434FCAD9D0>, 'query': '', 'answer': '', 'source': '20100721_mprfullreport.pdf', 'model': '', 'prompt': ''}\n",
      "{'document_id': 'dde03138-e0f1-4c4b-af00-c7e64a9e935a', 'page': 7, 'image_filename': 'financial-stability-report-20200515_page_7.jpg', 'image': <PIL.JpegImagePlugin.JpegImageFile image mode=RGB size=2550x3300 at 0x73434FCADD00>, 'query': '', 'answer': '', 'source': 'financial-stability-report-20200515.pdf', 'model': '', 'prompt': ''}\n",
      "{'document_id': '5f0d9f0a-0c74-42a9-8a72-6ef172407d6a', 'page': 40, 'image_filename': 'PrinciplesofFinance-WEB_page_40.jpg', 'image': <PIL.JpegImagePlugin.JpegImageFile image mode=RGB size=2550x3300 at 0x73434FCADB50>, 'query': '', 'answer': '', 'source': 'PrinciplesofFinance-WEB.pdf', 'model': '', 'prompt': ''}\n",
      "{'document_id': 'a5af19c7-31f5-4df9-be2f-81014fc9d74b', 'page': 96, 'image_filename': 'WF-2023-annual-report_page_96.jpg', 'image': <PIL.JpegImagePlugin.JpegImageFile image mode=RGB size=2650x3400 at 0x73434FCAE0F0>, 'query': '', 'answer': '', 'source': 'WF-2023-annual-report.pdf', 'model': '', 'prompt': ''}\n",
      "{'document_id': '3fcdd092-bf6c-4465-867a-17025920429f', 'page': 98, 'image_filename': 'Macroeconomics2e-OP_08uAIKN_page_98.jpg', 'image': <PIL.JpegImagePlugin.JpegImageFile image mode=RGB size=2550x3300 at 0x73434FCADF70>, 'query': '', 'answer': '', 'source': 'Macroeconomics2e-OP_08uAIKN.pdf', 'model': '', 'prompt': ''}\n",
      "{'document_id': '481ac45d-1ed9-4d69-b595-9845c2b07d2d', 'page': 10, 'image_filename': '20230616_mprfullreport_page_10.jpg', 'image': <PIL.JpegImagePlugin.JpegImageFile image mode=RGB size=2550x3300 at 0x73434FCADA30>, 'query': '', 'answer': '', 'source': '20230616_mprfullreport.pdf', 'model': '', 'prompt': ''}\n",
      "{'document_id': '720bee76-0b72-4bed-bc15-7e433a9c88e9', 'page': 50, 'image_filename': 'BAC+2023+Annual+Report_page_50.jpg', 'image': <PIL.JpegImagePlugin.JpegImageFile image mode=RGB size=2400x3075 at 0x73434FCADEE0>, 'query': '', 'answer': '', 'source': 'BAC+2023+Annual+Report.pdf', 'model': '', 'prompt': ''}\n",
      "{'document_id': '884133af-3167-4071-95be-8e3372d30201', 'page': 40, 'image_filename': '60870-Outlook-2025_page_40.jpg', 'image': <PIL.JpegImagePlugin.JpegImageFile image mode=RGB size=2550x3300 at 0x73434FCADDF0>, 'query': '', 'answer': '', 'source': '60870-Outlook-2025.pdf', 'model': '', 'prompt': ''}\n",
      "{'document_id': 'c08c4404-93f9-4a49-84be-704284967388', 'page': 93, 'image_filename': 'a4T9b5_corporate finance_10_ed_page_93.jpg', 'image': <PIL.JpegImagePlugin.JpegImageFile image mode=RGB size=2682x3300 at 0x73434FCADAF0>, 'query': '', 'answer': '', 'source': 'a4T9b5_corporate finance_10_ed.pdf', 'model': '', 'prompt': ''}\n",
      "{'document_id': '884133af-3167-4071-95be-8e3372d30201', 'page': 9, 'image_filename': '60870-Outlook-2025_page_9.jpg', 'image': <PIL.JpegImagePlugin.JpegImageFile image mode=RGB size=2550x3300 at 0x73434FCADD00>, 'query': '', 'answer': '', 'source': '60870-Outlook-2025.pdf', 'model': '', 'prompt': ''}\n",
      "{'document_id': '481ac45d-1ed9-4d69-b595-9845c2b07d2d', 'page': 46, 'image_filename': '20230616_mprfullreport_page_46.jpg', 'image': <PIL.JpegImagePlugin.JpegImageFile image mode=RGB size=2550x3300 at 0x73434FCADE50>, 'query': '', 'answer': '', 'source': '20230616_mprfullreport.pdf', 'model': '', 'prompt': ''}\n",
      "{'document_id': '4f8143c7-c39e-4206-847b-174d92642e69', 'page': 32, 'image_filename': '2024088pap_page_32.jpg', 'image': <PIL.JpegImagePlugin.JpegImageFile image mode=RGB size=2550x3300 at 0x73434FCADDF0>, 'query': '', 'answer': '', 'source': '2024088pap.pdf', 'model': '', 'prompt': ''}\n",
      "{'document_id': 'aaac8426-4867-42d2-8202-449159d7ca26', 'page': 20, 'image_filename': '202411-supervision-and-regulation-report_page_20.jpg', 'image': <PIL.JpegImagePlugin.JpegImageFile image mode=RGB size=2550x3300 at 0x73434FCAD7C0>, 'query': '', 'answer': '', 'source': '202411-supervision-and-regulation-report.pdf', 'model': '', 'prompt': ''}\n",
      "{'document_id': 'c08c4404-93f9-4a49-84be-704284967388', 'page': 50, 'image_filename': 'a4T9b5_corporate finance_10_ed_page_50.jpg', 'image': <PIL.JpegImagePlugin.JpegImageFile image mode=RGB size=2682x3300 at 0x73434FCADAC0>, 'query': '', 'answer': '', 'source': 'a4T9b5_corporate finance_10_ed.pdf', 'model': '', 'prompt': ''}\n",
      "{'document_id': '150eeb47-18c4-4edf-81e5-96220d18c9b5', 'page': 5, 'image_filename': '2025005pap_page_5.jpg', 'image': <PIL.JpegImagePlugin.JpegImageFile image mode=RGB size=2550x3300 at 0x73434FCACDD0>, 'query': '', 'answer': '', 'source': '2025005pap.pdf', 'model': '', 'prompt': ''}\n",
      "{'document_id': '90bc0426-3f66-4ea1-87d9-d1fa656a20cf', 'page': 16, 'image_filename': 'The Presentation Materials_1Q24_ADA_page_16.jpg', 'image': <PIL.JpegImagePlugin.JpegImageFile image mode=RGB size=3300x2550 at 0x73434FCADA30>, 'query': '', 'answer': '', 'source': 'The Presentation Materials_1Q24_ADA.pdf', 'model': '', 'prompt': ''}\n",
      "{'document_id': '3a4d90d5-f184-420d-b422-e2152d829725', 'page': 31, 'image_filename': '2503.01591v1_page_31.jpg', 'image': <PIL.JpegImagePlugin.JpegImageFile image mode=RGB size=2481x3508 at 0x73434FCADF70>, 'query': '', 'answer': '', 'source': '2503.01591v1.pdf', 'model': '', 'prompt': ''}\n",
      "{'document_id': '6255fd13-41bf-4e5e-8221-40602b41a9be', 'page': 8, 'image_filename': '2025016pap_page_8.jpg', 'image': <PIL.JpegImagePlugin.JpegImageFile image mode=RGB size=2550x3300 at 0x73434FCADB50>, 'query': '', 'answer': '', 'source': '2025016pap.pdf', 'model': '', 'prompt': ''}\n",
      "{'document_id': '2dfb0323-db61-4147-8e2f-57ab74d474f0', 'page': 36, 'image_filename': 'The Presentation Materials_2Q24_ADA_page_36.jpg', 'image': <PIL.JpegImagePlugin.JpegImageFile image mode=RGB size=3300x2550 at 0x73434FCADE50>, 'query': '', 'answer': '', 'source': 'The Presentation Materials_2Q24_ADA.pdf', 'model': '', 'prompt': ''}\n",
      "{'document_id': '481ac45d-1ed9-4d69-b595-9845c2b07d2d', 'page': 57, 'image_filename': '20230616_mprfullreport_page_57.jpg', 'image': <PIL.JpegImagePlugin.JpegImageFile image mode=RGB size=2550x3300 at 0x73434FCADEE0>, 'query': '', 'answer': '', 'source': '20230616_mprfullreport.pdf', 'model': '', 'prompt': ''}\n",
      "{'document_id': '86452eb8-3218-46e5-99ab-5643c0ab2f9b', 'page': 9, 'image_filename': '2503.04218v1_page_9.jpg', 'image': <PIL.JpegImagePlugin.JpegImageFile image mode=RGB size=2550x3300 at 0x73434FCADD90>, 'query': '', 'answer': '', 'source': '2503.04218v1.pdf', 'model': '', 'prompt': ''}\n",
      "{'document_id': 'a3070e8a-1bf7-43e7-b40c-4e748fc1335b', 'page': 29, 'image_filename': 'The Presentation Materials_4Q24_ADA_page_29.jpg', 'image': <PIL.JpegImagePlugin.JpegImageFile image mode=RGB size=3300x2550 at 0x73434FCACDD0>, 'query': '', 'answer': '', 'source': 'The Presentation Materials_4Q24_ADA.pdf', 'model': '', 'prompt': ''}\n",
      "{'document_id': 'a5af19c7-31f5-4df9-be2f-81014fc9d74b', 'page': 23, 'image_filename': 'WF-2023-annual-report_page_23.jpg', 'image': <PIL.JpegImagePlugin.JpegImageFile image mode=RGB size=2650x3400 at 0x73434FCAD970>, 'query': '', 'answer': '', 'source': 'WF-2023-annual-report.pdf', 'model': '', 'prompt': ''}\n",
      "{'document_id': '720bee76-0b72-4bed-bc15-7e433a9c88e9', 'page': 8, 'image_filename': 'BAC+2023+Annual+Report_page_8.jpg', 'image': <PIL.JpegImagePlugin.JpegImageFile image mode=RGB size=2400x3075 at 0x73434FCADCA0>, 'query': '', 'answer': '', 'source': 'BAC+2023+Annual+Report.pdf', 'model': '', 'prompt': ''}\n",
      "{'document_id': 'c20d1212-00c6-4dd2-b365-8d106f383005', 'page': 44, 'image_filename': '59711-Long-Term-Outlook-2024_page_44.jpg', 'image': <PIL.JpegImagePlugin.JpegImageFile image mode=RGB size=2550x3300 at 0x73434FCADB50>, 'query': '', 'answer': '', 'source': '59711-Long-Term-Outlook-2024.pdf', 'model': '', 'prompt': ''}\n",
      "{'document_id': '3a4d90d5-f184-420d-b422-e2152d829725', 'page': 27, 'image_filename': '2503.01591v1_page_27.jpg', 'image': <PIL.JpegImagePlugin.JpegImageFile image mode=RGB size=2481x3508 at 0x73434FCADE50>, 'query': '', 'answer': '', 'source': '2503.01591v1.pdf', 'model': '', 'prompt': ''}\n",
      "{'document_id': 'cd200429-3879-472e-ad84-d99bcb16d94a', 'page': 98, 'image_filename': 'd8814e8b-en_page_98.jpg', 'image': <PIL.JpegImagePlugin.JpegImageFile image mode=RGB size=2481x3508 at 0x73434FCADEE0>, 'query': '', 'answer': '', 'source': 'd8814e8b-en.pdf', 'model': '', 'prompt': ''}\n",
      "{'document_id': '0f959783-db4b-49dc-a26d-fceb5531eadb', 'page': 39, 'image_filename': 'economics-principles-and-practices1_page_39.jpg', 'image': <PIL.JpegImagePlugin.JpegImageFile image mode=RGB size=2550x3263 at 0x73434FCADB20>, 'query': '', 'answer': '', 'source': 'economics-principles-and-practices1.pdf', 'model': '', 'prompt': ''}\n",
      "{'document_id': 'cd200429-3879-472e-ad84-d99bcb16d94a', 'page': 85, 'image_filename': 'd8814e8b-en_page_85.jpg', 'image': <PIL.JpegImagePlugin.JpegImageFile image mode=RGB size=2481x3508 at 0x73434FCADCA0>, 'query': '', 'answer': '', 'source': 'd8814e8b-en.pdf', 'model': '', 'prompt': ''}\n",
      "{'document_id': 'a5af19c7-31f5-4df9-be2f-81014fc9d74b', 'page': 21, 'image_filename': 'WF-2023-annual-report_page_21.jpg', 'image': <PIL.JpegImagePlugin.JpegImageFile image mode=RGB size=2650x3400 at 0x73434FCADA00>, 'query': '', 'answer': '', 'source': 'WF-2023-annual-report.pdf', 'model': '', 'prompt': ''}\n",
      "{'document_id': '2dfb0323-db61-4147-8e2f-57ab74d474f0', 'page': 26, 'image_filename': 'The Presentation Materials_2Q24_ADA_page_26.jpg', 'image': <PIL.JpegImagePlugin.JpegImageFile image mode=RGB size=3300x2550 at 0x73434FCADEE0>, 'query': '', 'answer': '', 'source': 'The Presentation Materials_2Q24_ADA.pdf', 'model': '', 'prompt': ''}\n",
      "{'document_id': '90bc0426-3f66-4ea1-87d9-d1fa656a20cf', 'page': 13, 'image_filename': 'The Presentation Materials_1Q24_ADA_page_13.jpg', 'image': <PIL.JpegImagePlugin.JpegImageFile image mode=RGB size=3300x2550 at 0x73434FCADD00>, 'query': '', 'answer': '', 'source': 'The Presentation Materials_1Q24_ADA.pdf', 'model': '', 'prompt': ''}\n",
      "{'document_id': 'c20d1212-00c6-4dd2-b365-8d106f383005', 'page': 1, 'image_filename': '59711-Long-Term-Outlook-2024_page_1.jpg', 'image': <PIL.JpegImagePlugin.JpegImageFile image mode=RGB size=2550x3300 at 0x73434FCAD940>, 'query': '', 'answer': '', 'source': '59711-Long-Term-Outlook-2024.pdf', 'model': '', 'prompt': ''}\n",
      "{'document_id': '6255fd13-41bf-4e5e-8221-40602b41a9be', 'page': 32, 'image_filename': '2025016pap_page_32.jpg', 'image': <PIL.JpegImagePlugin.JpegImageFile image mode=RGB size=2550x3300 at 0x73434FCACDD0>, 'query': '', 'answer': '', 'source': '2025016pap.pdf', 'model': '', 'prompt': ''}\n",
      "{'document_id': '54c9f748-040d-4313-91ff-b2f3e0d0f645', 'page': 13, 'image_filename': 'BLS-usimportexport_jan2025_page_13.jpg', 'image': <PIL.JpegImagePlugin.JpegImageFile image mode=RGB size=2550x3300 at 0x73434FCAE000>, 'query': '', 'answer': '', 'source': 'BLS-usimportexport_jan2025.pdf', 'model': '', 'prompt': ''}\n",
      "{'document_id': 'a5af19c7-31f5-4df9-be2f-81014fc9d74b', 'page': 47, 'image_filename': 'WF-2023-annual-report_page_47.jpg', 'image': <PIL.JpegImagePlugin.JpegImageFile image mode=RGB size=2650x3400 at 0x73434FCACFB0>, 'query': '', 'answer': '', 'source': 'WF-2023-annual-report.pdf', 'model': '', 'prompt': ''}\n",
      "{'document_id': 'c20d1212-00c6-4dd2-b365-8d106f383005', 'page': 45, 'image_filename': '59711-Long-Term-Outlook-2024_page_45.jpg', 'image': <PIL.JpegImagePlugin.JpegImageFile image mode=RGB size=2550x3300 at 0x73434FCAD910>, 'query': '', 'answer': '', 'source': '59711-Long-Term-Outlook-2024.pdf', 'model': '', 'prompt': ''}\n",
      "{'document_id': '403242d6-2b06-4385-ad46-963ec0f898de', 'page': 3, 'image_filename': 'BLS-employmentsituation032025_page_3.jpg', 'image': <PIL.JpegImagePlugin.JpegImageFile image mode=RGB size=2550x3300 at 0x73434FCAD8E0>, 'query': '', 'answer': '', 'source': 'BLS-employmentsituation032025.pdf', 'model': '', 'prompt': ''}\n",
      "{'document_id': 'dde03138-e0f1-4c4b-af00-c7e64a9e935a', 'page': 24, 'image_filename': 'financial-stability-report-20200515_page_24.jpg', 'image': <PIL.JpegImagePlugin.JpegImageFile image mode=RGB size=2550x3300 at 0x73434FCADB20>, 'query': '', 'answer': '', 'source': 'financial-stability-report-20200515.pdf', 'model': '', 'prompt': ''}\n",
      "{'document_id': 'b1f9de87-dff3-4561-8f06-51f5e991dd7b', 'page': 32, 'image_filename': 'scf23_page_32.jpg', 'image': <PIL.JpegImagePlugin.JpegImageFile image mode=RGB size=2550x3300 at 0x73434FCADA60>, 'query': '', 'answer': '', 'source': 'scf23.pdf', 'model': '', 'prompt': ''}\n",
      "{'document_id': '54c9f748-040d-4313-91ff-b2f3e0d0f645', 'page': 12, 'image_filename': 'BLS-usimportexport_jan2025_page_12.jpg', 'image': <PIL.JpegImagePlugin.JpegImageFile image mode=RGB size=2550x3300 at 0x73434FCADDF0>, 'query': '', 'answer': '', 'source': 'BLS-usimportexport_jan2025.pdf', 'model': '', 'prompt': ''}\n",
      "{'document_id': 'c20d1212-00c6-4dd2-b365-8d106f383005', 'page': 59, 'image_filename': '59711-Long-Term-Outlook-2024_page_59.jpg', 'image': <PIL.JpegImagePlugin.JpegImageFile image mode=RGB size=2550x3300 at 0x73434FCAD8E0>, 'query': '', 'answer': '', 'source': '59711-Long-Term-Outlook-2024.pdf', 'model': '', 'prompt': ''}\n",
      "{'document_id': '720bee76-0b72-4bed-bc15-7e433a9c88e9', 'page': 12, 'image_filename': 'BAC+2023+Annual+Report_page_12.jpg', 'image': <PIL.JpegImagePlugin.JpegImageFile image mode=RGB size=2400x3075 at 0x73434FCADAF0>, 'query': '', 'answer': '', 'source': 'BAC+2023+Annual+Report.pdf', 'model': '', 'prompt': ''}\n",
      "{'document_id': '0f959783-db4b-49dc-a26d-fceb5531eadb', 'page': 93, 'image_filename': 'economics-principles-and-practices1_page_93.jpg', 'image': <PIL.JpegImagePlugin.JpegImageFile image mode=RGB size=2550x3263 at 0x73434FCAE1E0>, 'query': '', 'answer': '', 'source': 'economics-principles-and-practices1.pdf', 'model': '', 'prompt': ''}\n",
      "{'document_id': '720bee76-0b72-4bed-bc15-7e433a9c88e9', 'page': 75, 'image_filename': 'BAC+2023+Annual+Report_page_75.jpg', 'image': <PIL.JpegImagePlugin.JpegImageFile image mode=RGB size=2400x3075 at 0x73434FCADEE0>, 'query': '', 'answer': '', 'source': 'BAC+2023+Annual+Report.pdf', 'model': '', 'prompt': ''}\n",
      "{'document_id': 'c08c4404-93f9-4a49-84be-704284967388', 'page': 96, 'image_filename': 'a4T9b5_corporate finance_10_ed_page_96.jpg', 'image': <PIL.JpegImagePlugin.JpegImageFile image mode=RGB size=2682x3300 at 0x73434FCAD910>, 'query': '', 'answer': '', 'source': 'a4T9b5_corporate finance_10_ed.pdf', 'model': '', 'prompt': ''}\n",
      "{'document_id': '3fcdd092-bf6c-4465-867a-17025920429f', 'page': 40, 'image_filename': 'Macroeconomics2e-OP_08uAIKN_page_40.jpg', 'image': <PIL.JpegImagePlugin.JpegImageFile image mode=RGB size=2550x3300 at 0x73434FCAD8B0>, 'query': '', 'answer': '', 'source': 'Macroeconomics2e-OP_08uAIKN.pdf', 'model': '', 'prompt': ''}\n",
      "{'document_id': 'cd200429-3879-472e-ad84-d99bcb16d94a', 'page': 11, 'image_filename': 'd8814e8b-en_page_11.jpg', 'image': <PIL.JpegImagePlugin.JpegImageFile image mode=RGB size=2481x3508 at 0x73434FCADB80>, 'query': '', 'answer': '', 'source': 'd8814e8b-en.pdf', 'model': '', 'prompt': ''}\n",
      "{'document_id': '5f0d9f0a-0c74-42a9-8a72-6ef172407d6a', 'page': 64, 'image_filename': 'PrinciplesofFinance-WEB_page_64.jpg', 'image': <PIL.JpegImagePlugin.JpegImageFile image mode=RGB size=2550x3300 at 0x73434FCADCA0>, 'query': '', 'answer': '', 'source': 'PrinciplesofFinance-WEB.pdf', 'model': '', 'prompt': ''}\n",
      "{'document_id': 'b1f9de87-dff3-4561-8f06-51f5e991dd7b', 'page': 49, 'image_filename': 'scf23_page_49.jpg', 'image': <PIL.JpegImagePlugin.JpegImageFile image mode=RGB size=2550x3300 at 0x73434FCAD9A0>, 'query': '', 'answer': '', 'source': 'scf23.pdf', 'model': '', 'prompt': ''}\n",
      "{'document_id': 'dde03138-e0f1-4c4b-af00-c7e64a9e935a', 'page': 7, 'image_filename': 'financial-stability-report-20200515_page_7.jpg', 'image': <PIL.JpegImagePlugin.JpegImageFile image mode=RGB size=2550x3300 at 0x73434FCADA60>, 'query': '', 'answer': '', 'source': 'financial-stability-report-20200515.pdf', 'model': '', 'prompt': ''}\n",
      "{'document_id': '8e8d40b3-da93-40cc-be8e-7870f5b5226b', 'page': 57, 'image_filename': '60557-budget-options_page_57.jpg', 'image': <PIL.JpegImagePlugin.JpegImageFile image mode=RGB size=2550x3300 at 0x73434FCADEE0>, 'query': '', 'answer': '', 'source': '60557-budget-options.pdf', 'model': '', 'prompt': ''}\n",
      "{'document_id': '403242d6-2b06-4385-ad46-963ec0f898de', 'page': 35, 'image_filename': 'BLS-employmentsituation032025_page_35.jpg', 'image': <PIL.JpegImagePlugin.JpegImageFile image mode=RGB size=2550x3300 at 0x73434FCADA90>, 'query': '', 'answer': '', 'source': 'BLS-employmentsituation032025.pdf', 'model': '', 'prompt': ''}\n",
      "{'document_id': '2dfb0323-db61-4147-8e2f-57ab74d474f0', 'page': 35, 'image_filename': 'The Presentation Materials_2Q24_ADA_page_35.jpg', 'image': <PIL.JpegImagePlugin.JpegImageFile image mode=RGB size=3300x2550 at 0x73434FCAD9A0>, 'query': '', 'answer': '', 'source': 'The Presentation Materials_2Q24_ADA.pdf', 'model': '', 'prompt': ''}\n",
      "{'document_id': '720bee76-0b72-4bed-bc15-7e433a9c88e9', 'page': 60, 'image_filename': 'BAC+2023+Annual+Report_page_60.jpg', 'image': <PIL.JpegImagePlugin.JpegImageFile image mode=RGB size=2400x3075 at 0x73434FCADE50>, 'query': '', 'answer': '', 'source': 'BAC+2023+Annual+Report.pdf', 'model': '', 'prompt': ''}\n",
      "{'document_id': 'd57f2e6c-9290-40ec-8cf0-e24fdaca091a', 'page': 10, 'image_filename': '2503.02692v1_page_10.jpg', 'image': <PIL.JpegImagePlugin.JpegImageFile image mode=RGB size=2550x3300 at 0x73434FCACFB0>, 'query': '', 'answer': '', 'source': '2503.02692v1.pdf', 'model': '', 'prompt': ''}\n",
      "{'document_id': '3fcdd092-bf6c-4465-867a-17025920429f', 'page': 35, 'image_filename': 'Macroeconomics2e-OP_08uAIKN_page_35.jpg', 'image': <PIL.JpegImagePlugin.JpegImageFile image mode=RGB size=2550x3300 at 0x73434FCADA30>, 'query': '', 'answer': '', 'source': 'Macroeconomics2e-OP_08uAIKN.pdf', 'model': '', 'prompt': ''}\n",
      "{'document_id': 'dde03138-e0f1-4c4b-af00-c7e64a9e935a', 'page': 45, 'image_filename': 'financial-stability-report-20200515_page_45.jpg', 'image': <PIL.JpegImagePlugin.JpegImageFile image mode=RGB size=2550x3300 at 0x73434FCADCA0>, 'query': '', 'answer': '', 'source': 'financial-stability-report-20200515.pdf', 'model': '', 'prompt': ''}\n",
      "{'document_id': '3fcdd092-bf6c-4465-867a-17025920429f', 'page': 97, 'image_filename': 'Macroeconomics2e-OP_08uAIKN_page_97.jpg', 'image': <PIL.JpegImagePlugin.JpegImageFile image mode=RGB size=2550x3300 at 0x73434FCAD850>, 'query': '', 'answer': '', 'source': 'Macroeconomics2e-OP_08uAIKN.pdf', 'model': '', 'prompt': ''}\n",
      "{'document_id': '5f0d9f0a-0c74-42a9-8a72-6ef172407d6a', 'page': 24, 'image_filename': 'PrinciplesofFinance-WEB_page_24.jpg', 'image': <PIL.JpegImagePlugin.JpegImageFile image mode=RGB size=2550x3300 at 0x73434FCAD820>, 'query': '', 'answer': '', 'source': 'PrinciplesofFinance-WEB.pdf', 'model': '', 'prompt': ''}\n",
      "{'document_id': '4f8143c7-c39e-4206-847b-174d92642e69', 'page': 4, 'image_filename': '2024088pap_page_4.jpg', 'image': <PIL.JpegImagePlugin.JpegImageFile image mode=RGB size=2550x3300 at 0x73434FCADE80>, 'query': '', 'answer': '', 'source': '2024088pap.pdf', 'model': '', 'prompt': ''}\n"
     ]
    }
   ],
   "source": [
    "testing_sample = [random.randint(1000, len(dataset)) for _ in range(100)] # [0,1,2,3,4,17,34,70,74,97] \n",
    "for i in testing_sample:\n",
    "    print(dataset[i])"
   ]
  },
  {
   "cell_type": "code",
   "execution_count": 9,
   "metadata": {},
   "outputs": [
    {
     "data": {
      "application/vnd.jupyter.widget-view+json": {
       "model_id": "57e18afd428d45ae968bba8d10e37857",
       "version_major": 2,
       "version_minor": 0
      },
      "text/plain": [
       "Saving the dataset (0/1 shards):   0%|          | 0/100 [00:00<?, ? examples/s]"
      ]
     },
     "metadata": {},
     "output_type": "display_data"
    }
   ],
   "source": [
    "testing_dataset = dataset.select(testing_sample)\n",
    "testing_dataset.save_to_disk(\"/mnt/storage/fincolqwen_data/datasets/experiment_dataset\")"
   ]
  },
  {
   "cell_type": "code",
   "execution_count": 11,
   "metadata": {},
   "outputs": [],
   "source": [
    "# random.seed(42)\n",
    "\n",
    "# all_indices = list(range(len(dataset)))\n",
    "# random.shuffle(all_indices)\n",
    "\n",
    "# val_size = 250\n",
    "# test_size = 500\n",
    "# val_indices = all_indices[:val_size]\n",
    "# test_indices = all_indices[val_size:val_size+test_size]\n",
    "# train_indices = all_indices[val_size+test_size:]\n",
    "\n",
    "# val_dataset = dataset.select(val_indices)\n",
    "# test_dataset = dataset.select(test_indices)\n",
    "# train_dataset = dataset.select(train_indices)\n",
    "\n",
    "# dataset_with_splits = DatasetDict({\n",
    "#     'train': train_dataset,\n",
    "#     'validation': val_dataset,\n",
    "#     'test': test_dataset\n",
    "# })\n",
    "\n",
    "# dataset_with_splits.save_to_disk(\"/mnt/storage/fincolqwen_data/datasets/fincolqwen-main\")"
   ]
  },
  {
   "cell_type": "code",
   "execution_count": 12,
   "metadata": {},
   "outputs": [],
   "source": [
    "# Groups examples by document_id and calculates how many examples each document contains\n",
    "# Randomly selects documents for validation until we reach approximately the target size (250)\n",
    "# Includes a margin of error (10), and checks if skipping the last document would get us closer to the target\n",
    "# Repeats the process for the test set (target 500)\n",
    "# Assigns all remaining documents to the training set\n",
    "# Verifies there's no document_id overlap between splits\n",
    "\n",
    "random.seed(42)\n",
    "\n",
    "# Group indices by document_id\n",
    "doc_id_to_indices = defaultdict(list)\n",
    "for idx, item in enumerate(dataset):\n",
    "    doc_id_to_indices[item['document_id']].append(idx)\n",
    "\n",
    "# Get document_ids with their counts\n",
    "doc_id_counts = {doc_id: len(indices) for doc_id, indices in doc_id_to_indices.items()}\n",
    "doc_ids = list(doc_id_counts.keys())\n",
    "random.shuffle(doc_ids)\n",
    "\n",
    "# Target sizes\n",
    "target_val_size = 250\n",
    "target_test_size = 500\n",
    "margin_error = 10  # Acceptable margin of error\n",
    "\n",
    "# Select documents for validation set\n",
    "val_doc_ids = []\n",
    "val_count = 0\n",
    "for doc_id in doc_ids:\n",
    "    if val_count < target_val_size:\n",
    "        val_doc_ids.append(doc_id)\n",
    "        val_count += doc_id_counts[doc_id]\n",
    "        # If adding this document would exceed our target + margin, see if skipping would be closer\n",
    "        if val_count > target_val_size + margin_error:\n",
    "            potential_count = val_count - doc_id_counts[doc_id]\n",
    "            if target_val_size - potential_count < val_count - target_val_size:\n",
    "                # Skip this document if it would get us closer to target\n",
    "                val_doc_ids.pop()\n",
    "                val_count -= doc_id_counts[doc_id]\n",
    "                break\n",
    "    else:\n",
    "        break\n",
    "\n",
    "# Select documents for test set from remaining docs\n",
    "remaining_docs = [d for d in doc_ids if d not in val_doc_ids]\n",
    "test_doc_ids = []\n",
    "test_count = 0\n",
    "for doc_id in remaining_docs:\n",
    "    if test_count < target_test_size:\n",
    "        test_doc_ids.append(doc_id)\n",
    "        test_count += doc_id_counts[doc_id]\n",
    "        # Similar check for test set\n",
    "        if test_count > target_test_size + margin_error:\n",
    "            potential_count = test_count - doc_id_counts[doc_id]\n",
    "            if target_test_size - potential_count < test_count - target_test_size:\n",
    "                test_doc_ids.pop()\n",
    "                test_count -= doc_id_counts[doc_id]\n",
    "                break\n",
    "    else:\n",
    "        break\n",
    "\n",
    "# All remaining documents go to train\n",
    "train_doc_ids = [d for d in doc_ids if d not in val_doc_ids and d not in test_doc_ids]\n",
    "\n",
    "# Create indices for each split\n",
    "val_indices = [idx for doc_id in val_doc_ids for idx in doc_id_to_indices[doc_id]]\n",
    "test_indices = [idx for doc_id in test_doc_ids for idx in doc_id_to_indices[doc_id]]\n",
    "train_indices = [idx for doc_id in train_doc_ids for idx in doc_id_to_indices[doc_id]]"
   ]
  },
  {
   "cell_type": "code",
   "execution_count": 13,
   "metadata": {},
   "outputs": [
    {
     "name": "stdout",
     "output_type": "stream",
     "text": [
      "Total examples: 2830\n",
      "Training: 2088 examples from 46 documents\n",
      "Validation: 233 examples from 5 documents (target: 250)\n",
      "Testing: 509 examples from 9 documents (target: 500)\n",
      "Document overlap between train and val: 0\n",
      "Document overlap between train and test: 0\n",
      "Document overlap between val and test: 0\n"
     ]
    }
   ],
   "source": [
    "# Print split information\n",
    "print(f\"Total examples: {len(dataset)}\")\n",
    "print(f\"Training: {len(train_indices)} examples from {len(train_doc_ids)} documents\")\n",
    "print(f\"Validation: {len(val_indices)} examples from {len(val_doc_ids)} documents (target: {target_val_size})\")\n",
    "print(f\"Testing: {len(test_indices)} examples from {len(test_doc_ids)} documents (target: {target_test_size})\")\n",
    "\n",
    "# Create the splits\n",
    "val_dataset = dataset.select(val_indices)\n",
    "test_dataset = dataset.select(test_indices)\n",
    "train_dataset = dataset.select(train_indices)\n",
    "\n",
    "# Verify no document_id overlap between splits\n",
    "train_doc_ids_set = set(train_dataset['document_id'])\n",
    "val_doc_ids_set = set(val_dataset['document_id'])\n",
    "test_doc_ids_set = set(test_dataset['document_id'])\n",
    "\n",
    "print(f\"Document overlap between train and val: {len(train_doc_ids_set.intersection(val_doc_ids_set))}\")\n",
    "print(f\"Document overlap between train and test: {len(train_doc_ids_set.intersection(test_doc_ids_set))}\")\n",
    "print(f\"Document overlap between val and test: {len(val_doc_ids_set.intersection(test_doc_ids_set))}\")"
   ]
  },
  {
   "cell_type": "code",
   "execution_count": 14,
   "metadata": {},
   "outputs": [
    {
     "data": {
      "application/vnd.jupyter.widget-view+json": {
       "model_id": "47294acdd60f4e299bcb5edef44e1a99",
       "version_major": 2,
       "version_minor": 0
      },
      "text/plain": [
       "Saving the dataset (0/3 shards):   0%|          | 0/2088 [00:00<?, ? examples/s]"
      ]
     },
     "metadata": {},
     "output_type": "display_data"
    },
    {
     "data": {
      "application/vnd.jupyter.widget-view+json": {
       "model_id": "1c3d0bef7527445dafc69fd857f4ff9a",
       "version_major": 2,
       "version_minor": 0
      },
      "text/plain": [
       "Saving the dataset (0/1 shards):   0%|          | 0/233 [00:00<?, ? examples/s]"
      ]
     },
     "metadata": {},
     "output_type": "display_data"
    },
    {
     "data": {
      "application/vnd.jupyter.widget-view+json": {
       "model_id": "24cf7d85e86d4133b047b224472da6be",
       "version_major": 2,
       "version_minor": 0
      },
      "text/plain": [
       "Saving the dataset (0/1 shards):   0%|          | 0/509 [00:00<?, ? examples/s]"
      ]
     },
     "metadata": {},
     "output_type": "display_data"
    }
   ],
   "source": [
    "dataset_with_splits = DatasetDict({\n",
    "    'train': train_dataset,\n",
    "    'validation': val_dataset,\n",
    "    'test': test_dataset\n",
    "})\n",
    "\n",
    "dataset_with_splits.save_to_disk(\"/mnt/storage/fincolqwen_data/datasets/fincolqwen-main\")"
   ]
  },
  {
   "cell_type": "code",
   "execution_count": 16,
   "metadata": {},
   "outputs": [
    {
     "data": {
      "application/vnd.jupyter.widget-view+json": {
       "model_id": "6ada6271b927422b9b585581280bd019",
       "version_major": 2,
       "version_minor": 0
      },
      "text/plain": [
       "Map:   0%|          | 0/696 [00:00<?, ? examples/s]"
      ]
     },
     "metadata": {},
     "output_type": "display_data"
    },
    {
     "data": {
      "application/vnd.jupyter.widget-view+json": {
       "model_id": "09e3b6d7fb4048c1b56d963ac28cdc95",
       "version_major": 2,
       "version_minor": 0
      },
      "text/plain": [
       "Pushing dataset shards to the dataset hub:   0%|          | 0/3 [00:00<?, ?it/s]"
      ]
     },
     "metadata": {},
     "output_type": "display_data"
    },
    {
     "data": {
      "application/vnd.jupyter.widget-view+json": {
       "model_id": "fdc36808dab64ce3b82129b3a137cf51",
       "version_major": 2,
       "version_minor": 0
      },
      "text/plain": [
       "Map:   0%|          | 0/696 [00:00<?, ? examples/s]"
      ]
     },
     "metadata": {},
     "output_type": "display_data"
    },
    {
     "data": {
      "application/vnd.jupyter.widget-view+json": {
       "model_id": "de01041ce793421eb9b3dba010fe6466",
       "version_major": 2,
       "version_minor": 0
      },
      "text/plain": [
       "Map:   0%|          | 0/696 [00:00<?, ? examples/s]"
      ]
     },
     "metadata": {},
     "output_type": "display_data"
    },
    {
     "data": {
      "application/vnd.jupyter.widget-view+json": {
       "model_id": "7012c760f7484f158140415b2a8aaae8",
       "version_major": 2,
       "version_minor": 0
      },
      "text/plain": [
       "Creating parquet from Arrow format:   0%|          | 0/7 [00:00<?, ?ba/s]"
      ]
     },
     "metadata": {},
     "output_type": "display_data"
    },
    {
     "data": {
      "application/vnd.jupyter.widget-view+json": {
       "model_id": "52d1d4cb2ed0467186032edacab36a86",
       "version_major": 2,
       "version_minor": 0
      },
      "text/plain": [
       "Deleting unused files from dataset repository:   0%|          | 0/3 [00:00<?, ?it/s]"
      ]
     },
     "metadata": {},
     "output_type": "display_data"
    },
    {
     "data": {
      "application/vnd.jupyter.widget-view+json": {
       "model_id": "d42cc4f24f7443fbbd8261fcba9e78c3",
       "version_major": 2,
       "version_minor": 0
      },
      "text/plain": [
       "Map:   0%|          | 0/233 [00:00<?, ? examples/s]"
      ]
     },
     "metadata": {},
     "output_type": "display_data"
    },
    {
     "data": {
      "application/vnd.jupyter.widget-view+json": {
       "model_id": "c03d61612ca749f6bc26d6bf9d522212",
       "version_major": 2,
       "version_minor": 0
      },
      "text/plain": [
       "Pushing dataset shards to the dataset hub:   0%|          | 0/1 [00:00<?, ?it/s]"
      ]
     },
     "metadata": {},
     "output_type": "display_data"
    },
    {
     "data": {
      "application/vnd.jupyter.widget-view+json": {
       "model_id": "20877635ccf74333aa42a70a08b833a5",
       "version_major": 2,
       "version_minor": 0
      },
      "text/plain": [
       "Creating parquet from Arrow format:   0%|          | 0/3 [00:00<?, ?ba/s]"
      ]
     },
     "metadata": {},
     "output_type": "display_data"
    },
    {
     "data": {
      "application/vnd.jupyter.widget-view+json": {
       "model_id": "794c263a550a401b92a43cac9b025d0e",
       "version_major": 2,
       "version_minor": 0
      },
      "text/plain": [
       "Deleting unused files from dataset repository:   0%|          | 0/1 [00:00<?, ?it/s]"
      ]
     },
     "metadata": {},
     "output_type": "display_data"
    },
    {
     "data": {
      "application/vnd.jupyter.widget-view+json": {
       "model_id": "f65f68afc1bd4872a485bc75147b474c",
       "version_major": 2,
       "version_minor": 0
      },
      "text/plain": [
       "Map:   0%|          | 0/509 [00:00<?, ? examples/s]"
      ]
     },
     "metadata": {},
     "output_type": "display_data"
    },
    {
     "data": {
      "application/vnd.jupyter.widget-view+json": {
       "model_id": "cbfdcb21c96f47c7a19a2aa56a8edd78",
       "version_major": 2,
       "version_minor": 0
      },
      "text/plain": [
       "Pushing dataset shards to the dataset hub:   0%|          | 0/1 [00:00<?, ?it/s]"
      ]
     },
     "metadata": {},
     "output_type": "display_data"
    },
    {
     "data": {
      "application/vnd.jupyter.widget-view+json": {
       "model_id": "c84a59a93fdb424098e69e796b8e6960",
       "version_major": 2,
       "version_minor": 0
      },
      "text/plain": [
       "Creating parquet from Arrow format:   0%|          | 0/6 [00:00<?, ?ba/s]"
      ]
     },
     "metadata": {},
     "output_type": "display_data"
    },
    {
     "data": {
      "application/vnd.jupyter.widget-view+json": {
       "model_id": "ade576d83e7a420599a3be1d73b366e7",
       "version_major": 2,
       "version_minor": 0
      },
      "text/plain": [
       "Deleting unused files from dataset repository:   0%|          | 0/1 [00:00<?, ?it/s]"
      ]
     },
     "metadata": {},
     "output_type": "display_data"
    },
    {
     "data": {
      "application/vnd.jupyter.widget-view+json": {
       "model_id": "a51ba7afc9834b1497f0cc2d3bf45df7",
       "version_major": 2,
       "version_minor": 0
      },
      "text/plain": [
       "Downloading metadata:   0%|          | 0.00/991 [00:00<?, ?B/s]"
      ]
     },
     "metadata": {},
     "output_type": "display_data"
    }
   ],
   "source": [
    "repo_id = \"smith-nathanh/fincolqwen-main\"\n",
    "\n",
    "# Push to Hub with description and tags\n",
    "dataset_with_splits.push_to_hub(\n",
    "    repo_id,\n",
    "    private=False,\n",
    "    token=token,\n",
    "    embed_external_files=True,  # Important to include images!\n",
    ")"
   ]
  },
  {
   "cell_type": "code",
   "execution_count": 9,
   "metadata": {},
   "outputs": [
    {
     "name": "stdout",
     "output_type": "stream",
     "text": [
      "Loading dataset from disk...\n"
     ]
    },
    {
     "name": "stderr",
     "output_type": "stream",
     "text": [
      "/home/nate/proj/fincolqwen/.venv/lib/python3.12/site-packages/datasets/table.py:1421: FutureWarning: promote has been superseded by promote_options='default'.\n",
      "  table = cls._concat_blocks(blocks, axis=0)\n"
     ]
    }
   ],
   "source": [
    "#dataset_path = \"file:///mnt/storage/fincolqwen_data/datasets/experiment_dataset2\"\n",
    "dataset_path = \"file:///mnt/storage/fincolqwen_data/datasets/fincolqwen-main\"\n",
    "\n",
    "# Load the dataset\n",
    "print(\"Loading dataset from disk...\")\n",
    "testing_dataset = load_from_disk(dataset_path)"
   ]
  },
  {
   "cell_type": "code",
   "execution_count": 6,
   "metadata": {},
   "outputs": [
    {
     "data": {
      "text/plain": [
       "Dataset({\n",
       "    features: ['document_id', 'page', 'image_filename', 'image', 'source', 'prompt', 'qa_data', 'query', 'answer', 'model'],\n",
       "    num_rows: 10\n",
       "})"
      ]
     },
     "execution_count": 6,
     "metadata": {},
     "output_type": "execute_result"
    }
   ],
   "source": [
    "testing_dataset['train']"
   ]
  }
 ],
 "metadata": {
  "kernelspec": {
   "display_name": ".venv",
   "language": "python",
   "name": "python3"
  },
  "language_info": {
   "codemirror_mode": {
    "name": "ipython",
    "version": 3
   },
   "file_extension": ".py",
   "mimetype": "text/x-python",
   "name": "python",
   "nbconvert_exporter": "python",
   "pygments_lexer": "ipython3",
   "version": "3.12.3"
  }
 },
 "nbformat": 4,
 "nbformat_minor": 2
}
